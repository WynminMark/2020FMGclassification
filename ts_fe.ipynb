{
 "cells": [
  {
   "cell_type": "code",
   "execution_count": 2,
   "metadata": {},
   "outputs": [
    {
     "name": "stdout",
     "output_type": "stream",
     "text": [
      "   id     a     b     c     d     e\n",
      "0   0  3370  5189  3137  2508  5491\n",
      "1   0  3387  5198  3155  2525  5508\n",
      "2   0  3379  5198  3155  2525  5517\n",
      "3   0  3379  5198  3155  2525  5517\n",
      "4   0  3362  5172  3137  2500  5491\n"
     ]
    },
    {
     "name": "stderr",
     "output_type": "stream",
     "text": [
      "Feature Extraction: 100%|██████████████████████████████████████████████████████████████| 30/30 [02:38<00:00,  5.28s/it]\n"
     ]
    },
    {
     "name": "stdout",
     "output_type": "stream",
     "text": [
      "<class 'pandas.core.frame.DataFrame'>\n",
      "Int64Index: 3493 entries, 0 to 3492\n",
      "Columns: 1517 entries, e__minimum to e__symmetry_looking__r_0.30000000000000004\n",
      "dtypes: float64(1517)\n",
      "memory usage: 40.5 MB\n",
      "<class 'pandas.core.frame.DataFrame'>\n",
      "Int64Index: 2794 entries, 1407 to 3294\n",
      "Columns: 1517 entries, e__minimum to e__symmetry_looking__r_0.30000000000000004\n",
      "dtypes: float64(1517)\n",
      "memory usage: 32.4 MB\n"
     ]
    },
    {
     "name": "stderr",
     "output_type": "stream",
     "text": [
      "D:\\anaconda\\install\\lib\\site-packages\\sklearn\\ensemble\\forest.py:245: FutureWarning: The default value of n_estimators will change from 10 in version 0.20 to 100 in 0.22.\n",
      "  \"10 in version 0.20 to 100 in 0.22.\", FutureWarning)\n"
     ]
    },
    {
     "name": "stdout",
     "output_type": "stream",
     "text": [
      "              precision    recall  f1-score   support\n",
      "\n",
      "           0       1.00      1.00      1.00       112\n",
      "           1       0.98      1.00      0.99        92\n",
      "           2       0.95      0.97      0.96       106\n",
      "           3       0.89      0.94      0.92        89\n",
      "           4       0.87      0.80      0.83        94\n",
      "           5       0.84      0.81      0.83       107\n",
      "           6       0.81      0.84      0.83        99\n",
      "\n",
      "    accuracy                           0.91       699\n",
      "   macro avg       0.91      0.91      0.91       699\n",
      "weighted avg       0.91      0.91      0.91       699\n",
      "\n"
     ]
    }
   ],
   "source": [
    "import numpy as np\n",
    "import pandas as pd\n",
    "import scipy.io as sio\n",
    "import matplotlib.pyplot as plt\n",
    "from tsfresh import extract_relevant_features\n",
    "from tsfresh.feature_extraction.settings import ComprehensiveFCParameters\n",
    "from sklearn import preprocessing\n",
    "from sklearn import svm\n",
    "from sklearn.model_selection import train_test_split\n",
    "from sklearn.tree import DecisionTreeClassifier\n",
    "from sklearn.ensemble import RandomForestClassifier\n",
    "from sklearn.metrics import classification_report\n",
    "\n",
    "win_l = 40\n",
    "win_i = 20\n",
    "\n",
    "sit = sio.loadmat(r'D:\\data\\sitData.mat')['sit']\n",
    "stand = sio.loadmat(r'D:\\data\\standData.mat')['stand']\n",
    "walk = sio.loadmat(r'D:\\data\\walkData.mat')['walk']\n",
    "sa = sio.loadmat(r'D:\\data\\stairAdata.mat')['stairA']\n",
    "sd = sio.loadmat(r'D:\\data\\stairDdata.mat')['stairD']\n",
    "ra = sio.loadmat(r'D:\\data\\rampAdata.mat')['rampA']\n",
    "rd = sio.loadmat(r'D:\\data\\rampDdata.mat')['rampD']\n",
    "\n",
    "data_id = []\n",
    "a = []\n",
    "b = []\n",
    "c = []\n",
    "d = []\n",
    "e = []\n",
    "y = []\n",
    "\n",
    "train_size = 10000\n",
    "\n",
    "id_shift = 0\n",
    "for i in range((train_size - win_l + win_i) // win_i):\n",
    "    y.append(0)\n",
    "    data_id += [i + id_shift] * win_l\n",
    "    a += list(sit[win_i * i : win_i * i + win_l, 0])\n",
    "    b += list(sit[win_i * i : win_i * i + win_l, 1])\n",
    "    c += list(sit[win_i * i : win_i * i + win_l, 2])\n",
    "    d += list(sit[win_i * i : win_i * i + win_l, 3])\n",
    "    e += list(sit[win_i * i : win_i * i + win_l, 4])\n",
    "\n",
    "id_shift += (train_size - win_l + win_i) // win_i\n",
    "for i in range((train_size - win_l + win_i) // win_i):\n",
    "    y.append(1)\n",
    "    data_id += [i + id_shift] * win_l\n",
    "    a += list(stand[win_i * i : win_i * i + win_l, 0])\n",
    "    b += list(stand[win_i * i : win_i * i + win_l, 1])\n",
    "    c += list(stand[win_i * i : win_i * i + win_l, 2])\n",
    "    d += list(stand[win_i * i : win_i * i + win_l, 3])\n",
    "    e += list(stand[win_i * i : win_i * i + win_l, 4])\n",
    "\n",
    "id_shift += (train_size - win_l + win_i) // win_i\n",
    "for i in range((train_size - win_l + win_i) // win_i):\n",
    "    y.append(2)\n",
    "    data_id += [i + id_shift] * win_l\n",
    "    a += list(walk[win_i * i : win_i * i + win_l, 0])\n",
    "    b += list(walk[win_i * i : win_i * i + win_l, 1])\n",
    "    c += list(walk[win_i * i : win_i * i + win_l, 2])\n",
    "    d += list(walk[win_i * i : win_i * i + win_l, 3])\n",
    "    e += list(walk[win_i * i : win_i * i + win_l, 4])\n",
    "    \n",
    "id_shift += (train_size - win_l + win_i) // win_i\n",
    "for i in range((train_size - win_l + win_i) // win_i):\n",
    "    y.append(3)\n",
    "    data_id += [i + id_shift] * win_l\n",
    "    a += list(sa[win_i * i : win_i * i + win_l, 0])\n",
    "    b += list(sa[win_i * i : win_i * i + win_l, 1])\n",
    "    c += list(sa[win_i * i : win_i * i + win_l, 2])\n",
    "    d += list(sa[win_i * i : win_i * i + win_l, 3])\n",
    "    e += list(sa[win_i * i : win_i * i + win_l, 4])\n",
    "    \n",
    "id_shift += (train_size - win_l + win_i) // win_i\n",
    "for i in range((train_size - win_l + win_i) // win_i):\n",
    "    y.append(4)\n",
    "    data_id += [i + id_shift] * win_l\n",
    "    a += list(sd[win_i * i : win_i * i + win_l, 0])\n",
    "    b += list(sd[win_i * i : win_i * i + win_l, 1])\n",
    "    c += list(sd[win_i * i : win_i * i + win_l, 2])\n",
    "    d += list(sd[win_i * i : win_i * i + win_l, 3])\n",
    "    e += list(sd[win_i * i : win_i * i + win_l, 4])\n",
    "\n",
    "id_shift += (train_size - win_l + win_i) // win_i\n",
    "for i in range((train_size - win_l + win_i) // win_i):\n",
    "    y.append(5)\n",
    "    data_id += [i + id_shift] * win_l\n",
    "    a += list(ra[win_i * i : win_i * i + win_l, 0])\n",
    "    b += list(ra[win_i * i : win_i * i + win_l, 1])\n",
    "    c += list(ra[win_i * i : win_i * i + win_l, 2])\n",
    "    d += list(ra[win_i * i : win_i * i + win_l, 3])\n",
    "    e += list(ra[win_i * i : win_i * i + win_l, 4])\n",
    "\n",
    "id_shift += (train_size - win_l + win_i) // win_i\n",
    "for i in range((train_size - win_l + win_i) // win_i):\n",
    "    y.append(6)\n",
    "    data_id += [i + id_shift] * win_l\n",
    "    a += list(rd[win_i * i : win_i * i + win_l, 0])\n",
    "    b += list(rd[win_i * i : win_i * i + win_l, 1])\n",
    "    c += list(rd[win_i * i : win_i * i + win_l, 2])\n",
    "    d += list(rd[win_i * i : win_i * i + win_l, 3])\n",
    "    e += list(rd[win_i * i : win_i * i + win_l, 4])\n",
    "    \n",
    "data_dic = {'id':data_id, 'a':a, 'b':b, 'c':c, 'd':d, 'e':e}\n",
    "data_df = pd.DataFrame(data_dic)\n",
    "label_df = pd.Series(y)\n",
    "\n",
    "# x_train, x_test, y_train, y_test = train_test_split(data_df, label_df, test_size = 0.2, random_state = 0)\n",
    "\n",
    "print(data_df.head())\n",
    "\n",
    "extract_settings = ComprehensiveFCParameters()\n",
    "#features = extract_relevant_features(data_df, label_df, column_id = 'id')\n",
    "X_filtered = extract_relevant_features(data_df, label_df, column_id='id', default_fc_parameters=extract_settings)\n",
    "X_filtered.info()\n",
    "# X_train, X_test, X_filtered_train, X_filtered_test, y_train, y_test = train_test_split(X, X_filtered, y, test_size = 0.2)\n",
    "X_filtered_train, X_filtered_test, y_train, y_test = train_test_split(X_filtered, y, test_size = 0.2)\n",
    "X_filtered_train.info()\n",
    "#cl =DecisionTreeClassifier()\n",
    "#cl.fit(X_train, y_train)\n",
    "#print(classification_report(y_test, cl.predict(X_test)))\n",
    "#cl.n_features_\n",
    "\n",
    "cl2 = RandomForestClassifier()\n",
    "cl2.fit(X_filtered_train, y_train)\n",
    "print(classification_report(y_test, cl2.predict(X_filtered_test)))\n",
    "\n",
    "\n"
   ]
  },
  {
   "cell_type": "code",
   "execution_count": 3,
   "metadata": {},
   "outputs": [
    {
     "name": "stdout",
     "output_type": "stream",
     "text": [
      "Fitting 5 folds for each of 100 candidates, totalling 500 fits\n"
     ]
    },
    {
     "name": "stderr",
     "output_type": "stream",
     "text": [
      "[Parallel(n_jobs=-1)]: Using backend LokyBackend with 12 concurrent workers.\n",
      "[Parallel(n_jobs=-1)]: Done  26 tasks      | elapsed:  1.5min\n",
      "[Parallel(n_jobs=-1)]: Done 176 tasks      | elapsed:  6.3min\n",
      "[Parallel(n_jobs=-1)]: Done 426 tasks      | elapsed: 13.7min\n",
      "[Parallel(n_jobs=-1)]: Done 500 out of 500 | elapsed: 15.8min finished\n"
     ]
    },
    {
     "name": "stdout",
     "output_type": "stream",
     "text": [
      "best parameter:  {'C': 6.2105263157894735, 'gamma': 0.001}\n",
      "best efficience:  0.9244810307802434\n",
      "report:                precision    recall  f1-score   support\n",
      "\n",
      "           0       1.00      0.99      1.00       112\n",
      "           1       0.99      1.00      0.99        92\n",
      "           2       0.93      0.95      0.94       106\n",
      "           3       0.84      0.99      0.91        89\n",
      "           4       0.93      0.88      0.91        94\n",
      "           5       0.89      0.77      0.82       107\n",
      "           6       0.83      0.84      0.83        99\n",
      "\n",
      "    accuracy                           0.92       699\n",
      "   macro avg       0.92      0.92      0.91       699\n",
      "weighted avg       0.92      0.92      0.91       699\n",
      "\n"
     ]
    }
   ],
   "source": [
    "from sklearn.model_selection import GridSearchCV\n",
    "scaler = preprocessing.StandardScaler().fit(X_filtered_train)\n",
    "X_filtered_train_s = scaler.transform(X_filtered_train)\n",
    "X_filtered_test_s = scaler.transform(X_filtered_test)\n",
    "parameters = {'gamma':[0.000001, 0.00001, 0.0001, 0.001, 0.01], 'C':np.linspace(1, 100, 20)}\n",
    "gs = GridSearchCV(svm.SVC(), parameters, refit = True, cv = 5, verbose = 1, n_jobs = -1)\n",
    "gs.fit(X_filtered_train_s, y_train)\n",
    "print('best parameter: ', gs.best_params_)\n",
    "print('best efficience: ', gs.best_score_)\n",
    "print('report: ', classification_report(y_test, gs.predict(X_filtered_test_s)))\n"
   ]
  },
  {
   "cell_type": "code",
   "execution_count": 9,
   "metadata": {},
   "outputs": [
    {
     "name": "stdout",
     "output_type": "stream",
     "text": [
      "train accuracy: 1.0\n",
      "test accuracy: 0.9155937052932761\n",
      "[[111   0   0   1   0   0   0]\n",
      " [  0  92   0   0   0   0   0]\n",
      " [  0   0 101   2   3   0   0]\n",
      " [  0   0   0  88   1   0   0]\n",
      " [  0   1   4   4  83   0   2]\n",
      " [  0   0   4   4   2  82  15]\n",
      " [  0   0   0   5   1  10  83]]\n"
     ]
    }
   ],
   "source": [
    "from sklearn.metrics import confusion_matrix\n",
    "c = svm.SVC(C = 6, kernel = 'rbf', gamma = 0.001, decision_function_shape = 'ovr')\n",
    "c.fit(X_filtered_train_s, y_train)\n",
    "print(\"train accuracy:\", c.score(X_filtered_train_s, y_train))\n",
    "print(\"test accuracy:\", c.score(X_filtered_test_s, y_test))\n",
    "test_pred = c.predict(X_filtered_test_s)\n",
    "print(confusion_matrix(y_test, test_pred))\n"
   ]
  },
  {
   "cell_type": "code",
   "execution_count": 5,
   "metadata": {},
   "outputs": [
    {
     "data": {
      "image/png": "[encoded data removed]",
      "text/plain": [
       "<Figure size 720x720 with 1 Axes>"
      ]
     },
     "metadata": {
      "needs_background": "light"
     },
     "output_type": "display_data"
    }
   ],
   "source": [
    "data_df[data_df['id'] == 50].plot(sharex = True, figsize = (10, 10))\n",
    "plt.show()"
   ]
  },
  {
   "cell_type": "code",
   "execution_count": 6,
   "metadata": {},
   "outputs": [
    {
     "name": "stderr",
     "output_type": "stream",
     "text": [
      "Feature Extraction: 100%|██████████████████████████████████████████████████████████████| 30/30 [02:40<00:00,  5.34s/it]\n",
      "D:\\anaconda\\install\\lib\\site-packages\\tsfresh\\utilities\\dataframe_functions.py:170: RuntimeWarning: The columns ['a__agg_linear_trend__f_agg_\"max\"__chunk_len_50__attr_\"intercept\"'\n",
      " 'a__agg_linear_trend__f_agg_\"max\"__chunk_len_50__attr_\"rvalue\"'\n",
      " 'a__agg_linear_trend__f_agg_\"max\"__chunk_len_50__attr_\"slope\"' ...\n",
      " 'e__fft_coefficient__coeff_99__attr_\"angle\"'\n",
      " 'e__fft_coefficient__coeff_99__attr_\"imag\"'\n",
      " 'e__fft_coefficient__coeff_99__attr_\"real\"'] did not have any finite values. Filling with zeros.\n",
      "  df.iloc[:, np.where(is_col_non_finite)[0]].columns.values), RuntimeWarning)\n",
      "Feature Extraction: 100%|██████████████████████████████████████████████████████████████| 30/30 [02:24<00:00,  4.82s/it]\n",
      "D:\\anaconda\\install\\lib\\site-packages\\sklearn\\ensemble\\forest.py:245: FutureWarning: The default value of n_estimators will change from 10 in version 0.20 to 100 in 0.22.\n",
      "  \"10 in version 0.20 to 100 in 0.22.\", FutureWarning)\n"
     ]
    },
    {
     "data": {
      "text/plain": [
       "Pipeline(memory=None,\n",
       "         steps=[('augmenter',\n",
       "                 RelevantFeatureAugmenter(chunksize=None, column_id='id',\n",
       "                                          column_kind=None, column_sort=None,\n",
       "                                          column_value=None,\n",
       "                                          default_fc_parameters=None,\n",
       "                                          disable_progressbar=False,\n",
       "                                          fdr_level=0.05,\n",
       "                                          filter_only_tsfresh_features=True,\n",
       "                                          hypotheses_independent=False,\n",
       "                                          kind_to_fc_parameters=None,\n",
       "                                          ml_task='auto', n_jobs=6,\n",
       "                                          profile=False,\n",
       "                                          profil...\n",
       "                 RandomForestClassifier(bootstrap=True, class_weight=None,\n",
       "                                        criterion='gini', max_depth=None,\n",
       "                                        max_features='auto',\n",
       "                                        max_leaf_nodes=None,\n",
       "                                        min_impurity_decrease=0.0,\n",
       "                                        min_impurity_split=None,\n",
       "                                        min_samples_leaf=1, min_samples_split=2,\n",
       "                                        min_weight_fraction_leaf=0.0,\n",
       "                                        n_estimators=10, n_jobs=None,\n",
       "                                        oob_score=False, random_state=None,\n",
       "                                        verbose=0, warm_start=False))],\n",
       "         verbose=False)"
      ]
     },
     "execution_count": 6,
     "metadata": {},
     "output_type": "execute_result"
    }
   ],
   "source": [
    "from sklearn.pipeline import Pipeline\n",
    "from sklearn.ensemble import RandomForestClassifier\n",
    "from sklearn.feature_selection import SelectKBest\n",
    "from tsfresh.transformers import RelevantFeatureAugmenter\n",
    "\n",
    "pipeline = Pipeline([('augmenter', RelevantFeatureAugmenter(column_id = 'id')), ('classifier', RandomForestClassifier())])\n",
    "X = pd.DataFrame(index = label_df.index)\n",
    "pipeline.set_params(augmenter__timeseries_container = data_df)\n",
    "pipeline.fit(X, label_df)\n"
   ]
  },
  {
   "cell_type": "code",
   "execution_count": 7,
   "metadata": {},
   "outputs": [
    {
     "ename": "NameError",
     "evalue": "name 'features' is not defined",
     "output_type": "error",
     "traceback": [
      "\u001b[1;31m---------------------------------------------------------------------------\u001b[0m",
      "\u001b[1;31mNameError\u001b[0m                                 Traceback (most recent call last)",
      "\u001b[1;32m<ipython-input-7-5410e37ec3bd>\u001b[0m in \u001b[0;36m<module>\u001b[1;34m\u001b[0m\n\u001b[0;32m      1\u001b[0m \u001b[1;32mfrom\u001b[0m \u001b[0msklearn\u001b[0m\u001b[1;33m.\u001b[0m\u001b[0mfeature_selection\u001b[0m \u001b[1;32mimport\u001b[0m \u001b[0mSelectKBest\u001b[0m\u001b[1;33m,\u001b[0m \u001b[0mchi2\u001b[0m\u001b[1;33m,\u001b[0m \u001b[0mf_regression\u001b[0m\u001b[1;33m\u001b[0m\u001b[1;33m\u001b[0m\u001b[0m\n\u001b[0;32m      2\u001b[0m \u001b[1;32mfrom\u001b[0m \u001b[0msklearn\u001b[0m\u001b[1;33m.\u001b[0m\u001b[0mpreprocessing\u001b[0m \u001b[1;32mimport\u001b[0m \u001b[0mNormalizer\u001b[0m\u001b[1;33m\u001b[0m\u001b[1;33m\u001b[0m\u001b[0m\n\u001b[1;32m----> 3\u001b[1;33m \u001b[0mfea_nparray\u001b[0m \u001b[1;33m=\u001b[0m \u001b[0mfeatures\u001b[0m\u001b[1;33m.\u001b[0m\u001b[0mvalues\u001b[0m\u001b[1;33m\u001b[0m\u001b[1;33m\u001b[0m\u001b[0m\n\u001b[0m\u001b[0;32m      4\u001b[0m \u001b[0mnorm_transformer\u001b[0m \u001b[1;33m=\u001b[0m \u001b[0mNormalizer\u001b[0m\u001b[1;33m(\u001b[0m\u001b[1;33m)\u001b[0m\u001b[1;33m.\u001b[0m\u001b[0mfit\u001b[0m\u001b[1;33m(\u001b[0m\u001b[0mfeatures\u001b[0m\u001b[1;33m)\u001b[0m\u001b[1;33m\u001b[0m\u001b[1;33m\u001b[0m\u001b[0m\n\u001b[0;32m      5\u001b[0m \u001b[0mfea_norm\u001b[0m \u001b[1;33m=\u001b[0m \u001b[0mnorm_transformer\u001b[0m\u001b[1;33m.\u001b[0m\u001b[0mtransform\u001b[0m\u001b[1;33m(\u001b[0m\u001b[0mfea_nparray\u001b[0m\u001b[1;33m)\u001b[0m\u001b[1;33m\u001b[0m\u001b[1;33m\u001b[0m\u001b[0m\n",
      "\u001b[1;31mNameError\u001b[0m: name 'features' is not defined"
     ]
    }
   ],
   "source": [
    "from sklearn.feature_selection import SelectKBest, chi2, f_regression\n",
    "from sklearn.preprocessing import Normalizer\n",
    "fea_nparray = features.values\n",
    "norm_transformer = Normalizer().fit(features)\n",
    "fea_norm = norm_transformer.transform(fea_nparray)\n",
    "print(\"feature shape: \", fea_norm.shape)\n",
    "print(\"y shape: \", len(y))\n",
    "fea_filt = SelectKBest(f_regression, k = 20).fit_transform(fea_norm, y)\n",
    "print(fea_filt.shape)"
   ]
  },
  {
   "cell_type": "code",
   "execution_count": null,
   "metadata": {},
   "outputs": [],
   "source": [
    "pipeline.score(X, label_df)\n",
    "\n"
   ]
  },
  {
   "cell_type": "code",
   "execution_count": 22,
   "metadata": {},
   "outputs": [
    {
     "name": "stdout",
     "output_type": "stream",
     "text": [
      "(54587, 10)\n"
     ]
    },
    {
     "data": {
      "image/png": "[encoded data removed]",
      "text/plain": [
       "<Figure size 432x288 with 1 Axes>"
      ]
     },
     "metadata": {
      "needs_background": "light"
     },
     "output_type": "display_data"
    }
   ],
   "source": [
    "print(sit.shape)\n",
    "draw = walk[500:1000, 0]\n",
    "plt.plot(draw)\n",
    "plt.savefig('SignalExample.png', dpi = 2000)\n",
    "plt.show()"
   ]
  }
 ],
 "metadata": {
  "kernelspec": {
   "display_name": "Python 3",
   "language": "python",
   "name": "python3"
  },
  "language_info": {
   "codemirror_mode": {
    "name": "ipython",
    "version": 3
   },
   "file_extension": ".py",
   "mimetype": "text/x-python",
   "name": "python",
   "nbconvert_exporter": "python",
   "pygments_lexer": "ipython3",
   "version": "3.7.4"
  }
 },
 "nbformat": 4,
 "nbformat_minor": 2
}
