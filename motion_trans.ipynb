{
 "cells": [
  {
   "cell_type": "code",
   "execution_count": 2,
   "metadata": {},
   "outputs": [],
   "source": [
    "import numpy as np\n",
    "import pandas as pd\n",
    "import scipy.io as sio\n",
    "import matplotlib.pyplot as plt\n",
    "from sklearn import preprocessing\n",
    "from sklearn import svm\n",
    "from sklearn.model_selection import train_test_split\n",
    "from sklearn.model_selection import GridSearchCV\n",
    "from sklearn.tree import DecisionTreeClassifier\n",
    "from sklearn.ensemble import RandomForestClassifier\n",
    "from sklearn.metrics import classification_report\n",
    "from sklearn.metrics import confusion_matrix\n",
    "import joblib"
   ]
  },
  {
   "cell_type": "code",
   "execution_count": 12,
   "metadata": {},
   "outputs": [
    {
     "name": "stdout",
     "output_type": "stream",
     "text": [
      "(2690, 5)\n",
      "2690\n",
      "(266, 25)\n"
     ]
    }
   ],
   "source": [
    "window_i = 10\n",
    "window_l = 40\n",
    "\n",
    "data_ra = sio.loadmat(r'D:\\data\\motion_trans\\t_ra')['t_ra']\n",
    "data_rd = sio.loadmat(r'D:\\data\\motion_trans\\t_rd')['t_rd']\n",
    "data_sa = sio.loadmat(r'D:\\data\\motion_trans\\t_sa')['t_sa']\n",
    "data_sd = sio.loadmat(r'D:\\data\\motion_trans\\t_sd')['t_sd']\n",
    "data_sit = sio.loadmat(r'D:\\data\\motion_trans\\t_sit')['t_sit']\n",
    "data_stand = sio.loadmat(r'D:\\data\\motion_trans\\t_stand')['t_stand']\n",
    "data_walk = sio.loadmat(r'D:\\data\\motion_trans\\t_walk')['t_walk']\n",
    "\n",
    "\n",
    "def get_feature(data):  # calculate features\n",
    "    feature = np.zeros(((data.shape[1] - window_l)//window_i + 1, 25), dtype = float)\n",
    "    for i in range(5):\n",
    "        for j in range((data.shape[1] - window_l) // window_i):\n",
    "            feature[j, 5 * i] = np.mean(data[i, window_i*j : window_i*j + window_l])\n",
    "            feature[j, 5 * i + 1] = np.std(data[i, window_i*j : window_i*j + window_l])\n",
    "            feature[j, 5 * i + 2] = np.var(data[i, window_i*j : window_i*j + window_l])\n",
    "            feature[j, 5 * i + 3] = np.mean(abs(data[i, window_i*j : window_i*j + window_l] - np.mean(data[i, window_i*j : window_i*j + window_l])))\n",
    "            feature[j, 5 * i + 4] = max(data[i, window_i*j : window_i*j + window_l]) - min(data[i, window_i*j : window_i*j + window_l])\n",
    "    return feature\n",
    "\n",
    "data_series = np.concatenate((data_sit, data_stand, data_walk, data_ra, data_walk, data_rd, data_walk, data_sa, data_walk, data_sd), axis = 0)\n",
    "fea_series = get_feature(data_series.T)\n",
    "label = []\n",
    "for i in range(data_sit.shape[0]):\n",
    "    label.append(0)\n",
    "for i in range(data_stand.shape[0]):\n",
    "    label.append(1)\n",
    "for i in range(data_walk.shape[0]):\n",
    "    label.append(2)\n",
    "for i in range(data_ra.shape[0]):\n",
    "    label.append(3)\n",
    "for i in range(data_walk.shape[0]):\n",
    "    label.append(2)\n",
    "for i in range(data_rd.shape[0]):\n",
    "    label.append(4)\n",
    "for i in range(data_walk.shape[0]):\n",
    "    label.append(2)\n",
    "for i in range(data_sa.shape[0]):\n",
    "    label.append(5)\n",
    "for i in range(data_walk.shape[0]):\n",
    "    label.append(2)\n",
    "for i in range(data_sd.shape[0]):\n",
    "    label.append(6)\n",
    "\n",
    "print(data_series.shape)\n",
    "print(len(label))\n",
    "print(fea_series.shape)"
   ]
  },
  {
   "cell_type": "code",
   "execution_count": 9,
   "metadata": {},
   "outputs": [
    {
     "name": "stdout",
     "output_type": "stream",
     "text": [
      "(260, 5)\n",
      "(5, 260)\n",
      "(87, 25)\n",
      "260\n"
     ]
    }
   ],
   "source": [
    "clf = joblib.load('zpk_ion_model.m') \n",
    "scaler = preprocessing.StandardScaler().fit(fea_series)\n",
    "train_data = scaler.transform(fea_series)\n",
    "clf.predict(train_data)"
   ]
  }
 ],
 "metadata": {
  "kernelspec": {
   "display_name": "Python 3",
   "language": "python",
   "name": "python3"
  },
  "language_info": {
   "codemirror_mode": {
    "name": "ipython",
    "version": 3
   },
   "file_extension": ".py",
   "mimetype": "text/x-python",
   "name": "python",
   "nbconvert_exporter": "python",
   "pygments_lexer": "ipython3",
   "version": "3.7.4"
  }
 },
 "nbformat": 4,
 "nbformat_minor": 2
}
