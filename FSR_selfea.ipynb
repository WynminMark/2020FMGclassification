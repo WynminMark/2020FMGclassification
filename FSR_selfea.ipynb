{
 "cells": [
  {
   "cell_type": "code",
   "execution_count": 2,
   "metadata": {},
   "outputs": [],
   "source": [
    "import numpy as np\n",
    "import pandas as pd\n",
    "import scipy.io as sio\n",
    "import matplotlib.pyplot as plt\n",
    "from sklearn import preprocessing\n",
    "from sklearn import svm\n",
    "from sklearn.model_selection import train_test_split\n",
    "from sklearn.model_selection import GridSearchCV\n",
    "from sklearn.tree import DecisionTreeClassifier\n",
    "from sklearn.ensemble import RandomForestClassifier\n",
    "from sklearn.metrics import classification_report\n",
    "from sklearn.metrics import confusion_matrix"
   ]
  },
  {
   "cell_type": "code",
   "execution_count": 13,
   "metadata": {},
   "outputs": [
    {
     "name": "stdout",
     "output_type": "stream",
     "text": [
      "(3989, 25)\n",
      "3989\n"
     ]
    }
   ],
   "source": [
    "data_sa = sio.loadmat(r'D:\\data\\FSR\\uData')['uData']\n",
    "data_sd = sio.loadmat(r'D:\\data\\FSR\\dData')['dData']\n",
    "data_walk = sio.loadmat(r'D:\\data\\FSR\\walkData')['walkData']\n",
    "\n",
    "window_i = 20\n",
    "window_l = 100 #samplerate100, 40 50 60 70 80 90 100\n",
    "\n",
    "def get_feature(data):  # calculate features\n",
    "    feature = np.zeros(((data.shape[1] - window_l)//window_i + 1, 25), dtype = float)\n",
    "    for i in range(5):\n",
    "        for j in range((data.shape[1] - window_l) // window_i):\n",
    "            feature[j, 5 * i] = np.mean(data[i, window_i*j : window_i*j + window_l])\n",
    "            feature[j, 5 * i + 1] = np.std(data[i, window_i*j : window_i*j + window_l])\n",
    "            feature[j, 5 * i + 2] = np.var(data[i, window_i*j : window_i*j + window_l])\n",
    "            feature[j, 5 * i + 3] = np.mean(abs(data[i, window_i*j : window_i*j + window_l] - np.mean(data[i, window_i*j : window_i*j + window_l])))\n",
    "            feature[j, 5 * i + 4] = max(data[i, window_i*j : window_i*j + window_l]) - min(data[i, window_i*j : window_i*j + window_l])\n",
    "    return feature\n",
    "\n",
    "f_data = []\n",
    "label = []\n",
    "\n",
    "f_walk = get_feature(data_walk.T)\n",
    "f_stairA = get_feature(data_sa.T)\n",
    "f_stairD = get_feature(data_sd.T)\n",
    "\n",
    "for i in range(f_walk.shape[0]):\n",
    "    label.append(0)\n",
    "\n",
    "for i in range(f_stairA.shape[0]):\n",
    "    label.append(1)\n",
    "\n",
    "for i in range(f_stairD.shape[0]):\n",
    "    label.append(2)\n",
    "    \n",
    "f_data = np.concatenate((f_walk, f_stairA, f_stairD), axis = 0)\n",
    "print(f_data.shape)\n",
    "print(len(label))\n",
    "\n"
   ]
  },
  {
   "cell_type": "code",
   "execution_count": 12,
   "metadata": {},
   "outputs": [
    {
     "name": "stdout",
     "output_type": "stream",
     "text": [
      "5\n"
     ]
    }
   ],
   "source": [
    "print(data_sa.shape[1])"
   ]
  },
  {
   "cell_type": "code",
   "execution_count": 14,
   "metadata": {},
   "outputs": [
    {
     "name": "stdout",
     "output_type": "stream",
     "text": [
      "Fitting 5 folds for each of 600 candidates, totalling 3000 fits\n"
     ]
    },
    {
     "name": "stderr",
     "output_type": "stream",
     "text": [
      "[Parallel(n_jobs=-1)]: Using backend LokyBackend with 12 concurrent workers.\n",
      "[Parallel(n_jobs=-1)]: Done  32 tasks      | elapsed:    0.7s\n",
      "[Parallel(n_jobs=-1)]: Done 328 tasks      | elapsed:    8.9s\n",
      "[Parallel(n_jobs=-1)]: Done 828 tasks      | elapsed:   23.6s\n",
      "[Parallel(n_jobs=-1)]: Done 1497 tasks      | elapsed:   44.2s\n",
      "[Parallel(n_jobs=-1)]: Done 1949 tasks      | elapsed:   59.0s\n",
      "[Parallel(n_jobs=-1)]: Done 2499 tasks      | elapsed:  1.3min\n"
     ]
    },
    {
     "name": "stdout",
     "output_type": "stream",
     "text": [
      "best parameter:  {'C': 6.0, 'gamma': 0.1}\n",
      "best efficience: 0.9815104982764024\n",
      "report:                precision    recall  f1-score   support\n",
      "\n",
      "           0       0.00      0.00      0.00       347\n",
      "           1       0.26      1.00      0.41       207\n",
      "           2       0.00      0.00      0.00       244\n",
      "\n",
      "    accuracy                           0.26       798\n",
      "   macro avg       0.09      0.33      0.14       798\n",
      "weighted avg       0.07      0.26      0.11       798\n",
      "\n"
     ]
    },
    {
     "name": "stderr",
     "output_type": "stream",
     "text": [
      "[Parallel(n_jobs=-1)]: Done 3000 out of 3000 | elapsed:  1.6min finished\n",
      "D:\\anaconda\\install\\lib\\site-packages\\sklearn\\metrics\\classification.py:1437: UndefinedMetricWarning: Precision and F-score are ill-defined and being set to 0.0 in labels with no predicted samples.\n",
      "  'precision', 'predicted', average, warn_for)\n"
     ]
    }
   ],
   "source": [
    "train_data_r, test_data_r, train_label, test_label = train_test_split(f_data, label, test_size = 0.2, random_state = 0)\n",
    "scaler = preprocessing.StandardScaler().fit(train_data_r)\n",
    "train_data = scaler.transform(train_data_r)\n",
    "test_data = scaler.transform(test_data_r)\n",
    "'''\n",
    "c = svm.SVC(C = 52, kernel = 'rbf', gamma = 0.1, decision_function_shape = 'ovr')\n",
    "c.fit(train_data, train_label)\n",
    "print(\"train acc:\", c.score(train_data, train_label))\n",
    "print('test acc:', c.score(test_data, test_label))\n",
    "test_pred = c.predict(test_data)\n",
    "print(confusion_matrix(test_label, test_pred))\n",
    "'''\n",
    "parameters = {'gamma':[0.0001, 0.001, 0.01, 0.1, 1, 10], 'C':np.linspace(1, 100, 100)}\n",
    "gs = GridSearchCV(svm.SVC(), parameters, refit = True, cv = 5, verbose = 1, n_jobs = -1)\n",
    "gs.fit(train_data, train_label)\n",
    "print('best parameter: ', gs.best_params_)\n",
    "print('best efficience:', gs.best_score_)\n",
    "print('report: ', classification_report(test_label, gs.predict(test_data_r)))"
   ]
  },
  {
   "cell_type": "code",
   "execution_count": 22,
   "metadata": {},
   "outputs": [
    {
     "name": "stdout",
     "output_type": "stream",
     "text": [
      "train acc: 0.9996854356715948\n",
      "test acc: 0.9987421383647799\n",
      "[[360   0   1]\n",
      " [  0 197   0]\n",
      " [  0   0 237]]\n"
     ]
    }
   ],
   "source": [
    "c = svm.SVC(C = 6, kernel = 'rbf', gamma = 0.1, decision_function_shape = 'ovr')# \n",
    "c.fit(train_data, train_label)\n",
    "print(\"train acc:\", c.score(train_data, train_label))\n",
    "print('test acc:', c.score(test_data, test_label))\n",
    "test_pred = c.predict(test_data)\n",
    "print(confusion_matrix(test_label, test_pred))"
   ]
  }
 ],
 "metadata": {
  "kernelspec": {
   "display_name": "Python 3",
   "language": "python",
   "name": "python3"
  },
  "language_info": {
   "codemirror_mode": {
    "name": "ipython",
    "version": 3
   },
   "file_extension": ".py",
   "mimetype": "text/x-python",
   "name": "python",
   "nbconvert_exporter": "python",
   "pygments_lexer": "ipython3",
   "version": "3.7.4"
  }
 },
 "nbformat": 4,
 "nbformat_minor": 2
}
