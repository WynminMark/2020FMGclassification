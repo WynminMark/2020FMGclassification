{
 "cells": [
  {
   "cell_type": "code",
   "execution_count": 1,
   "metadata": {},
   "outputs": [],
   "source": [
    "import numpy as np\n",
    "import pandas as pd\n",
    "import scipy.io as sio\n",
    "import matplotlib.pyplot as plt\n",
    "from sklearn import preprocessing\n",
    "from sklearn import svm\n",
    "from sklearn.model_selection import train_test_split\n",
    "from sklearn.model_selection import GridSearchCV\n",
    "from sklearn.tree import DecisionTreeClassifier\n",
    "from sklearn.ensemble import RandomForestClassifier\n",
    "from sklearn.metrics import classification_report\n",
    "from sklearn.metrics import confusion_matrix"
   ]
  },
  {
   "cell_type": "code",
   "execution_count": 64,
   "metadata": {},
   "outputs": [],
   "source": [
    "def get_feature(data, window_l, window_i):  # calculate features\n",
    "    feature = np.zeros(((data.shape[1] - window_l)//window_i + 1, 25), dtype = float)\n",
    "    for i in range(5):\n",
    "        for j in range((data.shape[1] - window_l) // window_i):\n",
    "            feature[j, 5 * i] = np.mean(data[i, window_i*j : window_i*j + window_l])\n",
    "            feature[j, 5 * i + 1] = np.std(data[i, window_i*j : window_i*j + window_l])\n",
    "            feature[j, 5 * i + 2] = np.var(data[i, window_i*j : window_i*j + window_l])\n",
    "            feature[j, 5 * i + 3] = np.mean(abs(data[i, window_i*j : window_i*j + window_l] - np.mean(data[i, window_i*j : window_i*j + window_l])))\n",
    "            feature[j, 5 * i + 4] = max(data[i, window_i*j : window_i*j + window_l]) - min(data[i, window_i*j : window_i*j + window_l])\n",
    "    return feature\n",
    "\n",
    "# train/test data spliter for time series data classification \n",
    "def timeseries_train_test_split(data, label, test_size):\n",
    "    # time series data split\n",
    "    # data: get_features. 2D list\n",
    "    # label: 1,2,3\n",
    "    # test_size: 0.2\n",
    "    split_point = round(data.shape[0]*(1-test_size))\n",
    "    train_data = data[:split_point, :]\n",
    "    test_data = data[split_point:, :]\n",
    "    train_label = []\n",
    "    test_label = []\n",
    "    for i in range(train_data.shape[0]):\n",
    "        train_label.append(label)\n",
    "    for i in range(test_data.shape[0]):\n",
    "        test_label.append(label)\n",
    "    return train_data, test_data, train_label, test_label"
   ]
  },
  {
   "cell_type": "code",
   "execution_count": 397,
   "metadata": {},
   "outputs": [
    {
     "name": "stdout",
     "output_type": "stream",
     "text": [
      "train set data shape:  (1502, 25)\n",
      "train label length:  1502\n",
      "test set data shape:  (376, 25)\n",
      "test label length:  376\n"
     ]
    }
   ],
   "source": [
    "# load data (.mat)\n",
    "data_sa = sio.loadmat(r'D:\\code\\data\\3subjects_FSR-iFMG_dataset\\zkj\\100\\up_stairs_100')['up_stairs_100']\n",
    "data_sd = sio.loadmat(r'D:\\code\\data\\3subjects_FSR-iFMG_dataset\\zkj\\100\\down_stairs_100')['down_stairs_100']\n",
    "data_walk = sio.loadmat(r'D:\\code\\data\\3subjects_FSR-iFMG_dataset\\zkj\\100\\walk_100')['walk_100']\n",
    "# set window increase & window length\n",
    "# 16FSR 8PT sample rate 83(17 25 33 42 50 58 66 75 83 91 100)\n",
    "# iFMG sample rate 1200(240 360 480 600 720 840 960 1080 1200 1320 1440)\n",
    "window_i = 240\n",
    "window_l = 1440 # 200, 300, 400, 500, 600, 700, 800, 900, 1000\n",
    "\n",
    "# 滑窗计算特征，获得数据集\n",
    "f_walk = get_feature(data_walk.T, window_l, window_i)\n",
    "f_stairA = get_feature(data_sa.T, window_l, window_i)\n",
    "f_stairD = get_feature(data_sd.T, window_l, window_i)\n",
    "# ======================================================================================================================================================\n",
    "# 随机划分数据集时，获得总的数据集和label\n",
    "'''\n",
    "f_data = []\n",
    "label = []\n",
    "for i in range(f_walk.shape[0]):\n",
    "    label.append(0)\n",
    "\n",
    "for i in range(f_stairA.shape[0]):\n",
    "    label.append(1)\n",
    "\n",
    "for i in range(f_stairD.shape[0]):\n",
    "    label.append(2)\n",
    "    \n",
    "f_data = np.concatenate((f_walk, f_stairA, f_stairD), axis = 0)\n",
    "\n",
    "print(\"train set data shape: \", f_data.shape)\n",
    "print(\"label length: \", len(label))\n",
    "print(data_sa.shape[1])\n",
    "# randomly devide data set\n",
    "train_data_r, test_data_r, train_label, test_label = train_test_split(f_data, label, test_size = 0.3, random_state = None, stratify = label)\n",
    "'''\n",
    "# ======================================================================================================================================================\n",
    "# 按照前80% 后20% 的比例划分训练集和测试集\n",
    "walk_train, walk_test, walk_train_label, walk_test_label = timeseries_train_test_split(f_walk, 0, 0.2)\n",
    "sa_train, sa_test, sa_train_label, sa_test_label = timeseries_train_test_split(f_stairA, 1, 0.2)\n",
    "sd_train, sd_test, sd_train_label, sd_test_label = timeseries_train_test_split(f_stairD, 2, 0.2)\n",
    "\n",
    "train_data_r = np.concatenate((walk_train, sa_train, sd_train), axis = 0)\n",
    "test_data_r = np.concatenate((walk_test, sa_test, sd_test), axis = 0)\n",
    "train_label = walk_train_label + sa_train_label + sd_train_label\n",
    "test_label = walk_test_label + sa_test_label + sd_test_label\n",
    "print(\"train set data shape: \", train_data_r.shape)\n",
    "print(\"train label length: \", len(train_label))\n",
    "print(\"test set data shape: \", test_data_r.shape)\n",
    "print(\"test label length: \", len(test_label))"
   ]
  },
  {
   "cell_type": "code",
   "execution_count": 398,
   "metadata": {},
   "outputs": [
    {
     "name": "stdout",
     "output_type": "stream",
     "text": [
      "Fitting 5 folds for each of 600 candidates, totalling 3000 fits\n",
      "best parameter:  {'C': 47.0, 'gamma': 0.001}\n",
      "best efficience: 0.9953333333333333\n",
      "report:                precision    recall  f1-score   support\n",
      "\n",
      "           0       0.00      0.00      0.00       182\n",
      "           1       0.00      0.00      0.00        84\n",
      "           2       0.29      1.00      0.45       110\n",
      "\n",
      "    accuracy                           0.29       376\n",
      "   macro avg       0.10      0.33      0.15       376\n",
      "weighted avg       0.09      0.29      0.13       376\n",
      "\n"
     ]
    },
    {
     "name": "stderr",
     "output_type": "stream",
     "text": [
      "D:\\anaconda\\installation\\lib\\site-packages\\sklearn\\metrics\\_classification.py:1245: UndefinedMetricWarning: Precision and F-score are ill-defined and being set to 0.0 in labels with no predicted samples. Use `zero_division` parameter to control this behavior.\n",
      "  _warn_prf(average, modifier, msg_start, len(result))\n",
      "D:\\anaconda\\installation\\lib\\site-packages\\sklearn\\metrics\\_classification.py:1245: UndefinedMetricWarning: Precision and F-score are ill-defined and being set to 0.0 in labels with no predicted samples. Use `zero_division` parameter to control this behavior.\n",
      "  _warn_prf(average, modifier, msg_start, len(result))\n",
      "D:\\anaconda\\installation\\lib\\site-packages\\sklearn\\metrics\\_classification.py:1245: UndefinedMetricWarning: Precision and F-score are ill-defined and being set to 0.0 in labels with no predicted samples. Use `zero_division` parameter to control this behavior.\n",
      "  _warn_prf(average, modifier, msg_start, len(result))\n"
     ]
    }
   ],
   "source": [
    "scaler = preprocessing.StandardScaler().fit(train_data_r)\n",
    "train_data = scaler.transform(train_data_r)\n",
    "test_data = scaler.transform(test_data_r)\n",
    "'''\n",
    "c = svm.SVC(C = 52, kernel = 'rbf', gamma = 0.1, decision_function_shape = 'ovr')\n",
    "c.fit(train_data, train_label)\n",
    "print(\"train acc:\", c.score(train_data, train_label))\n",
    "print('test acc:', c.score(test_data, test_label))\n",
    "test_pred = c.predict(test_data)\n",
    "print(confusion_matrix(test_label, test_pred))\n",
    "'''\n",
    "parameters = {'gamma':[0.0001, 0.001, 0.01, 0.1, 1, 10], 'C':np.linspace(1, 100, 100)}\n",
    "gs = GridSearchCV(svm.SVC(), parameters, refit = True, cv = 5, verbose = 1, n_jobs = -1)\n",
    "gs.fit(train_data, train_label)\n",
    "print('best parameter: ', gs.best_params_)\n",
    "print('best efficience:', gs.best_score_)\n",
    "print('report: ', classification_report(test_label, gs.predict(test_data_r)))"
   ]
  },
  {
   "cell_type": "code",
   "execution_count": 399,
   "metadata": {},
   "outputs": [
    {
     "name": "stdout",
     "output_type": "stream",
     "text": [
      "train acc: 1.0\n",
      "test acc: 0.9946808510638298\n",
      "[[181   0   1]\n",
      " [  0  83   1]\n",
      " [  0   0 110]]\n"
     ]
    }
   ],
   "source": [
    "# change C & gamma before run this block!!!\n",
    "c = svm.SVC(C = gs.best_params_['C'], kernel = 'rbf', gamma = gs.best_params_['gamma'], decision_function_shape = 'ovr')# \n",
    "c.fit(train_data, train_label)\n",
    "print(\"train acc:\", c.score(train_data, train_label))\n",
    "print('test acc:', c.score(test_data, test_label))\n",
    "test_pred = c.predict(test_data)\n",
    "print(confusion_matrix(test_label, test_pred))"
   ]
  }
 ],
 "metadata": {
  "interpreter": {
   "hash": "6cba5248301253aff7c4f5786f311f531c1435645b156fc98e1e7a749adbe40e"
  },
  "kernelspec": {
   "display_name": "Python 3.7.10 64-bit ('base': conda)",
   "name": "python3"
  },
  "language_info": {
   "codemirror_mode": {
    "name": "ipython",
    "version": 3
   },
   "file_extension": ".py",
   "mimetype": "text/x-python",
   "name": "python",
   "nbconvert_exporter": "python",
   "pygments_lexer": "ipython3",
   "version": "3.7.10"
  }
 },
 "nbformat": 4,
 "nbformat_minor": 2
}
