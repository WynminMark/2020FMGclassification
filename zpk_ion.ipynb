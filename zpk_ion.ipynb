{
 "cells": [
  {
   "cell_type": "code",
   "execution_count": 2,
   "metadata": {},
   "outputs": [],
   "source": [
    "import numpy as np\n",
    "import pandas as pd\n",
    "import scipy.io as sio\n",
    "import matplotlib.pyplot as plt\n",
    "from sklearn import preprocessing\n",
    "from sklearn import svm\n",
    "from sklearn.model_selection import train_test_split\n",
    "from sklearn.model_selection import GridSearchCV\n",
    "from sklearn.tree import DecisionTreeClassifier\n",
    "from sklearn.ensemble import RandomForestClassifier\n",
    "from sklearn.metrics import classification_report\n",
    "from sklearn.metrics import confusion_matrix\n",
    "import joblib\n",
    "import matplotlib.pyplot as plt"
   ]
  },
  {
   "cell_type": "code",
   "execution_count": 3,
   "metadata": {},
   "outputs": [
    {
     "name": "stdout",
     "output_type": "stream",
     "text": [
      "(8428, 25)\n",
      "8428\n"
     ]
    }
   ],
   "source": [
    "window_i = 20\n",
    "window_l = 80 # 32 40 48 56 64 72 80\n",
    "\n",
    "def data_load(a):   # load data of one persons' 7 motion. a = '\\chx_'\n",
    "    ra = 'ra'\n",
    "    rd = 'rd'\n",
    "    sa = 'sa'\n",
    "    sd = 'sd'\n",
    "    sit = 'sit'\n",
    "    stand = 'stand'\n",
    "    walk = 'walk'\n",
    "\n",
    "    data_ra = sio.loadmat(r'D:\\data\\zpk'+a+ra)[ra]\n",
    "    data_rd = sio.loadmat(r'D:\\data\\zpk'+a+rd)[rd]\n",
    "    data_sa = sio.loadmat(r'D:\\data\\zpk'+a+sa)[sa]\n",
    "    data_sd = sio.loadmat(r'D:\\data\\zpk'+a+sd)[sd]\n",
    "    data_sit = sio.loadmat(r'D:\\data\\zpk'+a+sit)[sit]\n",
    "    data_stand = sio.loadmat(r'D:\\data\\zpk'+a+stand)[stand]\n",
    "    data_walk = sio.loadmat(r'D:\\data\\zpk'+a+walk)[walk]\n",
    "    return data_ra, data_rd, data_sa, data_sd, data_sit, data_stand, data_walk\n",
    "\n",
    "def get_feature(data):  # calculate features\n",
    "    feature = np.zeros(((data.shape[1] - window_l)//window_i + 1, 25), dtype = float)\n",
    "    for i in range(5):\n",
    "        for j in range((data.shape[1] - window_l) // window_i):\n",
    "            feature[j, 5 * i] = np.mean(data[i, window_i*j : window_i*j + window_l])\n",
    "            feature[j, 5 * i + 1] = np.std(data[i, window_i*j : window_i*j + window_l])\n",
    "            feature[j, 5 * i + 2] = np.var(data[i, window_i*j : window_i*j + window_l])\n",
    "            feature[j, 5 * i + 3] = np.mean(abs(data[i, window_i*j : window_i*j + window_l] - np.mean(data[i, window_i*j : window_i*j + window_l])))\n",
    "            feature[j, 5 * i + 4] = max(data[i, window_i*j : window_i*j + window_l]) - min(data[i, window_i*j : window_i*j + window_l])\n",
    "    return feature\n",
    "\n",
    "data_ra = []\n",
    "data_rd = []\n",
    "data_sa = []\n",
    "data_sd = []\n",
    "data_sit = []\n",
    "data_stand = []\n",
    "data_walk = []\n",
    "\n",
    "data = data_load('\\zpk_')\n",
    "data_ra.extend(data[0])\n",
    "data_rd.extend(data[1])\n",
    "data_sa.extend(data[2])\n",
    "data_sd.extend(data[3])\n",
    "data_sit.extend(data[4])\n",
    "data_stand.extend(data[5])\n",
    "data_walk.extend(data[6])\n",
    "\n",
    "data_ra = np.array(data_ra)\n",
    "data_rd = np.array(data_rd)\n",
    "data_sa = np.array(data_sa)\n",
    "data_sd = np.array(data_sd)\n",
    "data_sit = np.array(data_sit)\n",
    "data_stand = np.array(data_stand)\n",
    "data_walk = np.array(data_walk) # raw data, all data of the same motion\n",
    "\n",
    "#print(data_ra.shape)\n",
    "\n",
    "f_data = []\n",
    "label = []\n",
    "\n",
    "f_sit = get_feature(data_sit.T)\n",
    "f_stand = get_feature(data_stand.T)\n",
    "f_walk = get_feature(data_walk.T)\n",
    "f_stairA = get_feature(data_sa.T)\n",
    "f_stairD = get_feature(data_sd.T)\n",
    "f_rampA = get_feature(data_ra.T)\n",
    "f_rampD = get_feature(data_rd.T)\n",
    "\n",
    "for i in range(f_sit.shape[0]):\n",
    "    label.append(0)\n",
    "\n",
    "for i in range(f_stand.shape[0]):\n",
    "    label.append(1)\n",
    "\n",
    "for i in range(f_walk.shape[0]):\n",
    "    label.append(2)\n",
    "\n",
    "for i in range(f_stairA.shape[0]):\n",
    "    label.append(3)\n",
    "\n",
    "for i in range(f_stairD.shape[0]):\n",
    "    label.append(4)\n",
    "\n",
    "for i in range(f_rampA.shape[0]):\n",
    "    label.append(5)\n",
    "\n",
    "for i in range(f_rampD.shape[0]):\n",
    "    label.append(6)\n",
    "\n",
    "f_data = np.concatenate((f_sit, f_stand, f_walk, f_stairA, f_stairD, f_rampA, f_rampD), axis = 0)\n",
    "print(f_data.shape)\n",
    "print(len(label))"
   ]
  },
  {
   "cell_type": "code",
   "execution_count": 20,
   "metadata": {},
   "outputs": [
    {
     "name": "stdout",
     "output_type": "stream",
     "text": [
      "Fitting 5 folds for each of 600 candidates, totalling 3000 fits\n"
     ]
    },
    {
     "name": "stderr",
     "output_type": "stream",
     "text": [
      "[Parallel(n_jobs=-1)]: Using backend LokyBackend with 12 concurrent workers.\n",
      "[Parallel(n_jobs=-1)]: Done  26 tasks      | elapsed:    3.3s\n",
      "[Parallel(n_jobs=-1)]: Done 176 tasks      | elapsed:   22.5s\n",
      "[Parallel(n_jobs=-1)]: Done 426 tasks      | elapsed:   54.2s\n",
      "[Parallel(n_jobs=-1)]: Done 776 tasks      | elapsed:  1.7min\n",
      "[Parallel(n_jobs=-1)]: Done 1226 tasks      | elapsed:  2.6min\n",
      "[Parallel(n_jobs=-1)]: Done 1776 tasks      | elapsed:  3.8min\n",
      "[Parallel(n_jobs=-1)]: Done 2426 tasks      | elapsed:  5.1min\n",
      "[Parallel(n_jobs=-1)]: Done 3000 out of 3000 | elapsed:  6.4min finished\n"
     ]
    },
    {
     "name": "stdout",
     "output_type": "stream",
     "text": [
      "best parameter:  {'C': 13.0, 'gamma': 0.1}\n",
      "best efficience: 0.9909522396914862\n",
      "report:                precision    recall  f1-score   support\n",
      "\n",
      "           0       0.00      0.00      0.00       247\n",
      "           1       0.00      0.00      0.00       249\n",
      "           2       0.00      0.00      0.00       572\n",
      "           3       0.10      1.00      0.19       175\n",
      "           4       0.00      0.00      0.00       190\n",
      "           5       0.50      0.01      0.02       131\n",
      "           6       0.00      0.00      0.00       122\n",
      "\n",
      "    accuracy                           0.10      1686\n",
      "   macro avg       0.09      0.14      0.03      1686\n",
      "weighted avg       0.05      0.10      0.02      1686\n",
      "\n"
     ]
    },
    {
     "name": "stderr",
     "output_type": "stream",
     "text": [
      "D:\\anaconda\\install\\lib\\site-packages\\sklearn\\metrics\\classification.py:1437: UndefinedMetricWarning: Precision and F-score are ill-defined and being set to 0.0 in labels with no predicted samples.\n",
      "  'precision', 'predicted', average, warn_for)\n"
     ]
    }
   ],
   "source": [
    "train_data_r, test_data_r, train_label, test_label = train_test_split(f_data, label, test_size = 0.2, random_state = 0)\n",
    "scaler = preprocessing.StandardScaler().fit(train_data_r)\n",
    "train_data = scaler.transform(train_data_r)\n",
    "test_data = scaler.transform(test_data_r)\n",
    "'''\n",
    "c = svm.SVC(C = 52, kernel = 'rbf', gamma = 0.1, decision_function_shape = 'ovr')\n",
    "c.fit(train_data, train_label)\n",
    "print(\"train acc:\", c.score(train_data, train_label))\n",
    "print('test acc:', c.score(test_data, test_label))\n",
    "test_pred = c.predict(test_data)\n",
    "print(confusion_matrix(test_label, test_pred))\n",
    "'''\n",
    "parameters = {'gamma':[0.0001, 0.001, 0.01, 0.1, 1, 10], 'C':np.linspace(1, 100, 100)}\n",
    "gs = GridSearchCV(svm.SVC(), parameters, refit = True, cv = 5, verbose = 1, n_jobs = -1)\n",
    "gs.fit(train_data, train_label)\n",
    "print('best parameter: ', gs.best_params_)\n",
    "print('best efficience:', gs.best_score_)\n",
    "print('report: ', classification_report(test_label, gs.predict(test_data_r)))"
   ]
  },
  {
   "cell_type": "code",
   "execution_count": 5,
   "metadata": {},
   "outputs": [],
   "source": [
    "train_data_r, test_data_r, train_label, test_label = train_test_split(f_data, label, test_size = 0.2, random_state = 0)\n",
    "scaler = preprocessing.StandardScaler().fit(train_data_r)\n",
    "train_data = scaler.transform(train_data_r)\n",
    "test_data = scaler.transform(test_data_r)"
   ]
  },
  {
   "cell_type": "code",
   "execution_count": 6,
   "metadata": {},
   "outputs": [
    {
     "name": "stdout",
     "output_type": "stream",
     "text": [
      "train acc: 0.9980717887867102\n",
      "test acc: 0.9928825622775801\n",
      "[[247   0   0   0   0   0   0]\n",
      " [  0 249   0   0   0   0   0]\n",
      " [  0   0 569   1   0   0   2]\n",
      " [  0   0   0 172   3   0   0]\n",
      " [  0   0   0   2 187   0   1]\n",
      " [  0   0   1   1   0 129   0]\n",
      " [  0   0   1   0   0   0 121]]\n"
     ]
    },
    {
     "data": {
      "text/plain": [
       "['zpk_ion_model.m']"
      ]
     },
     "execution_count": 6,
     "metadata": {},
     "output_type": "execute_result"
    }
   ],
   "source": [
    "c = svm.SVC(C = 13, kernel = 'rbf', gamma = 0.1, decision_function_shape = 'ovr')# \n",
    "c.fit(train_data, train_label)\n",
    "print(\"train acc:\", c.score(train_data, train_label))\n",
    "print('test acc:', c.score(test_data, test_label))\n",
    "test_pred = c.predict(test_data)\n",
    "print(confusion_matrix(test_label, test_pred))\n",
    "\n",
    "joblib.dump(c, \"zpk_ion_model.m\")"
   ]
  },
  {
   "cell_type": "code",
   "execution_count": 7,
   "metadata": {},
   "outputs": [
    {
     "name": "stdout",
     "output_type": "stream",
     "text": [
      "(2690, 5)\n",
      "2690\n",
      "(131, 25)\n"
     ]
    }
   ],
   "source": [
    "t_ra = sio.loadmat(r'D:\\data\\motion_trans\\t_ra')['t_ra']\n",
    "t_rd = sio.loadmat(r'D:\\data\\motion_trans\\t_rd')['t_rd']\n",
    "t_sa = sio.loadmat(r'D:\\data\\motion_trans\\t_sa')['t_sa']\n",
    "t_sd = sio.loadmat(r'D:\\data\\motion_trans\\t_sd')['t_sd']\n",
    "t_sit = sio.loadmat(r'D:\\data\\motion_trans\\t_sit')['t_sit']\n",
    "t_stand = sio.loadmat(r'D:\\data\\motion_trans\\t_stand')['t_stand']\n",
    "t_walk = sio.loadmat(r'D:\\data\\motion_trans\\t_walk')['t_walk']\n",
    "\n",
    "data_series = np.concatenate((t_sit, t_stand, t_walk, t_ra, t_walk, t_rd, t_walk, t_sa, t_walk, t_sd), axis = 0)\n",
    "fea_series = get_feature(data_series.T)\n",
    "t_label = []\n",
    "for i in range(t_sit.shape[0]):\n",
    "    t_label.append(0)\n",
    "for i in range(t_stand.shape[0]):\n",
    "    t_label.append(1)\n",
    "for i in range(t_walk.shape[0]):\n",
    "    t_label.append(2)\n",
    "for i in range(t_ra.shape[0]):\n",
    "    t_label.append(5)\n",
    "for i in range(t_walk.shape[0]):\n",
    "    t_label.append(2)\n",
    "for i in range(t_rd.shape[0]):\n",
    "    t_label.append(6)\n",
    "for i in range(t_walk.shape[0]):\n",
    "    t_label.append(2)\n",
    "for i in range(t_sa.shape[0]):\n",
    "    t_label.append(3)\n",
    "for i in range(t_walk.shape[0]):\n",
    "    t_label.append(2)\n",
    "for i in range(t_sd.shape[0]):\n",
    "    t_label.append(4)\n",
    "\n",
    "print(data_series.shape)\n",
    "print(len(t_label))\n",
    "print(fea_series.shape)\n",
    "\n",
    "clf = joblib.load('zpk_ion_model.m') \n",
    "fea_series_nor = scaler.transform(fea_series)\n",
    "y = clf.predict(fea_series_nor)"
   ]
  },
  {
   "cell_type": "code",
   "execution_count": 8,
   "metadata": {},
   "outputs": [
    {
     "name": "stdout",
     "output_type": "stream",
     "text": [
      "[0, 0, 0, 0, 0, 0, 0, 0, 0, 0, 0, 0, 1, 1, 1, 1, 1, 1, 1, 1, 1, 1, 1, 1, 1, 1, 1, 2, 2, 2, 2, 2, 2, 2, 2, 2, 2, 2, 2, 2, 5, 5, 5, 5, 5, 5, 5, 5, 5, 5, 5, 5, 5, 2, 2, 2, 2, 2, 2, 2, 2, 2, 2, 2, 2, 2, 6, 6, 6, 6, 6, 6, 6, 6, 6, 6, 6, 6, 2, 2, 2, 2, 2, 2, 2, 2, 2, 2, 2, 2, 2, 3, 3, 3, 3, 3, 3, 3, 3, 3, 3, 3, 3, 3, 3, 3, 2, 2, 2, 2, 2, 2, 2, 2, 2, 2, 2, 2, 2, 4, 4, 4, 4, 4, 4, 4, 4, 4, 4, 4]\n",
      "[0 0 0 0 0 0 0 0 0 0 0 0 5 5 5 1 1 1 1 1 1 1 1 1 1 1 1 3 3 3 2 2 2 2 2 2 2\n",
      " 2 2 2 2 5 5 5 5 5 5 5 5 5 5 5 5 5 5 5 2 2 2 2 2 2 2 2 2 2 2 5 5 6 6 6 6 6\n",
      " 6 6 6 6 5 2 5 2 2 2 2 2 2 2 2 2 2 2 3 3 3 3 3 3 3 3 3 3 3 3 3 3 4 3 2 2 2\n",
      " 2 2 2 2 2 2 2 2 3 3 3 4 4 4 4 4 4 4 4 3]\n"
     ]
    }
   ],
   "source": [
    "y_t = []\n",
    "for j in range((len(t_label) - window_l) // window_i):\n",
    "    y_t.append(t_label[j * window_i + window_l - 1])\n",
    "    \n",
    "print(y_t)\n",
    "print(y)\n"
   ]
  },
  {
   "cell_type": "code",
   "execution_count": 11,
   "metadata": {},
   "outputs": [
    {
     "data": {
      "image/png": "[encoded data removed]",
      "text/plain": [
       "<Figure size 432x288 with 1 Axes>"
      ]
     },
     "metadata": {
      "needs_background": "light"
     },
     "output_type": "display_data"
    }
   ],
   "source": [
    "plt.plot(y_t)\n",
    "plt.plot(y)\n",
    "plt.savefig('motion_trans_80points.jpg')\n",
    "plt.show()\n"
   ]
  }
 ],
 "metadata": {
  "kernelspec": {
   "display_name": "Python 3",
   "language": "python",
   "name": "python3"
  },
  "language_info": {
   "codemirror_mode": {
    "name": "ipython",
    "version": 3
   },
   "file_extension": ".py",
   "mimetype": "text/x-python",
   "name": "python",
   "nbconvert_exporter": "python",
   "pygments_lexer": "ipython3",
   "version": "3.7.4"
  }
 },
 "nbformat": 4,
 "nbformat_minor": 2
}
