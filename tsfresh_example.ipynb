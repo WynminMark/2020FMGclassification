{
 "cells": [
  {
   "cell_type": "code",
   "execution_count": null,
   "metadata": {},
   "outputs": [],
   "source": [
    "import matplotlib.pylab as plt\n",
    "from tsfresh import extract_features, select_features\n",
    "from tsfresh.utilities.dataframe_functions import impute\n",
    "from tsfresh.feature_extraction import ComprehensiveFCParameters\n",
    "from sklearn.tree import DecisionTreeClassifier\n",
    "from sklearn.model_selection import train_test_split\n",
    "from sklearn.metrics import classification_report\n",
    "import pandas as pd\n",
    "import numpy as np\n",
    "\n",
    "if __name__ == '__main__':\n",
    "    N = 500\n",
    "    df = pd.read_csv('UCI HAR Dataset/train/Inertial Signals/body_acc_x_train.txt', delim_whitespace=True, header=None)\n",
    "    y = pd.read_csv('UCI HAR Dataset/train/y_train.txt', delim_whitespace=True, header=None, squeeze=True)[:N]\n",
    "    \n",
    "    # plt.title('accelerometer reading')\n",
    "    # plt.plot(df.ix[0, :])\n",
    "    # plt.show()\n",
    "\n",
    "    # \n",
    "    extraction_settings = ComprehensiveFCParameters()\n",
    "    master_df = pd.DataFrame({'feature': df[:N].values.flatten(),\n",
    "                              'id': np.arange(N).repeat(df.shape[1])})\n",
    "\n",
    "    # 时间序列特征工程\n",
    "    X = extract_features(timeseries_container=master_df, n_jobs=0, column_id='id', impute_function=impute,\n",
    "                         default_fc_parameters=extraction_settings)\n",
    "\n",
    "    X_train, X_test, y_train, y_test = train_test_split(X, y, test_size=0.2)\n",
    "    cl = DecisionTreeClassifier()\n",
    "    cl.fit(X_train, y_train)\n",
    "    print(classification_report(y_test, cl.predict(X_test)))\n",
    "\n",
    "    # 未进行时间序列特征工程\n",
    "    X_1 = df.ix[:N - 1, :]\n",
    "    X_train, X_test, y_train, y_test = train_test_split(X_1, y, test_size=.2)\n",
    "    cl = DecisionTreeClassifier()\n",
    "    cl.fit(X_train, y_train)\n",
    "    print(classification_report(y_test, cl.predict(X_test)))\n",
    "    relevant_features = set()\n",
    "    for label in y.unique():\n",
    "        y_train_binary = y_train == label\n",
    "        X_train_filtered = select_features(X_train, y_train_binary)\n",
    "        print(\"Number of relevant features for class {}: {}/{}\".format(label, X_train_filtered.shape[1],\n",
    "                                                                       X_train.shape[1]))\n",
    "        relevant_features = relevant_features.union(set(X_train_filtered.columns))\n",
    "    X_train_filtered = X_train[list(relevant_features)]\n",
    "    X_test_filtered = X_test[list(relevant_features)]\n",
    "    cl = DecisionTreeClassifier()\n",
    "    cl.fit(X_train_filtered, y_train)\n",
    "print(classification_report(y_test, cl.predict(X_test_filtered)))"
   ]
  }
 ],
 "metadata": {
  "kernelspec": {
   "display_name": "Python 3",
   "language": "python",
   "name": "python3"
  },
  "language_info": {
   "codemirror_mode": {
    "name": "ipython",
    "version": 3
   },
   "file_extension": ".py",
   "mimetype": "text/x-python",
   "name": "python",
   "nbconvert_exporter": "python",
   "pygments_lexer": "ipython3",
   "version": "3.7.4"
  }
 },
 "nbformat": 4,
 "nbformat_minor": 2
}
